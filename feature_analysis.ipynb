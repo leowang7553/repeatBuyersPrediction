{
 "metadata": {
  "language_info": {
   "codemirror_mode": {
    "name": "ipython",
    "version": 3
   },
   "file_extension": ".py",
   "mimetype": "text/x-python",
   "name": "python",
   "nbconvert_exporter": "python",
   "pygments_lexer": "ipython3",
   "version": "3.7.4-final"
  },
  "orig_nbformat": 2,
  "kernelspec": {
   "name": "python3",
   "display_name": "Python 3",
   "language": "python"
  }
 },
 "nbformat": 4,
 "nbformat_minor": 2,
 "cells": [
  {
   "cell_type": "code",
   "execution_count": 1,
   "metadata": {},
   "outputs": [],
   "source": [
    "# 导入包\n",
    "import pandas as pd"
   ]
  },
  {
   "cell_type": "code",
   "execution_count": 2,
   "metadata": {},
   "outputs": [],
   "source": [
    "# 加载全量样本\n",
    "\n",
    "'''\n",
    "train_format1：数据集中只包含 label为0和1的数据。\n",
    "train_format2：数据集中同时包含 label为0、1和-1的数据。\n",
    "user_info_format1：用户信息数据集。\n",
    "user_log_format1：用户日志数据集。\n",
    "'''\n",
    "\n",
    "# 文件路径\n",
    "filePath = sys.path[0]\n",
    "\n",
    "# 导入数据\n",
    "df_train1 = pd.read_csv(filePath + os.sep + 'datasets' + os.sep + 'train_format1.csv', encoding='ISO-8859-1')\n",
    "df_train2 = pd.read_csv(filePath + os.sep + 'datasets' + os.sep + 'train_format2.csv', encoding='ISO-8859-1')\n",
    "df_test1 = pd.read_csv(filePath + os.sep + 'datasets' + os.sep + 'test_format1.csv', encoding='ISO-8859-1')\n",
    "df_test2 = pd.read_csv(filePath + os.sep + 'datasets' + os.sep + 'test_format2.csv', encoding='ISO-8859-1')\n",
    "df_user_info = pd.read_csv(filePath + os.sep + 'datasets' + os.sep + 'user_info_format1.csv', encoding='ISO-8859-1')\n",
    "df_user_log = pd.read_csv(filePath + os.sep + 'datasets' + os.sep + 'user_log_format1.csv', encoding='ISO-8859-1')"
   ]
  },
  {
   "cell_type": "code",
   "execution_count": 3,
   "metadata": {},
   "outputs": [
    {
     "output_type": "stream",
     "name": "stdout",
     "text": [
      "df_train1 shape:  (260864, 3) Index(['user_id', 'merchant_id', 'label'], dtype='object')\ndf_train2 shape:  (7030723, 6) Index(['user_id', 'age_range', 'gender', 'merchant_id', 'label',\n       'activity_log'],\n      dtype='object')\ndf_test1 shape:  (261477, 3) Index(['user_id', 'merchant_id', 'prob'], dtype='object')\ndf_test2 shape:  (7027943, 6) Index(['user_id', 'age_range', 'gender', 'merchant_id', 'label',\n       'activity_log'],\n      dtype='object')\ndf_user_info shape:  (424170, 3) Index(['user_id', 'age_range', 'gender'], dtype='object')\ndf_user_log shape:  (54925330, 7) Index(['user_id', 'item_id', 'cat_id', 'seller_id', 'brand_id', 'time_stamp',\n       'action_type'],\n      dtype='object')\n"
     ]
    }
   ],
   "source": [
    "# 查看数据规模\n",
    "# print('----------数据集规模-------------')\n",
    "print('df_train1 shape: ', df_train1.shape, df_train1.columns)\n",
    "print('df_train2 shape: ', df_train2.shape, df_train2.columns)\n",
    "print('df_test1 shape: ', df_test1.shape, df_test1.columns)\n",
    "print('df_test2 shape: ', df_test2.shape, df_test2.columns)\n",
    "print('df_user_info shape: ', df_user_info.shape, df_user_info.columns)\n",
    "print('df_user_log shape: ', df_user_log.shape, df_user_log.columns)\n",
    "\n",
    "# 查看数据大体情况\n",
    "# print('-----------数据集字段-------------')\n",
    "# print('df_train1 head: \\n', df_train1.head())\n",
    "# print('df_train2 head: \\n', df_train2.head())\n",
    "# print('df_test1 head: \\n', df_test1.head())\n",
    "# print('df_test2 head: \\n', df_test2.head())\n",
    "# print('df_user_info head: \\n', df_user_info.head())\n",
    "# print('df_user_log head: \\n', df_user_log.head())\n",
    "\n",
    "# 查看是否有缺失值\n",
    "# print(df_train1.info(verbose=True,null_counts=True))\n",
    "# print(df_train2.info(verbose=True,null_counts=True))\n",
    "# print(df_test1.info(verbose=True,null_counts=True))\n",
    "# print(df_test2.info(verbose=True,null_counts=True))\n",
    "# print(df_user_info.info(verbose=True,null_counts=True))\n",
    "# print(df_user_log.info(verbose=True,null_counts=True))\n",
    "\n",
    "# 特殊值查看\n",
    "# print('df_train1 label: \\n', df_train1['label'].value_counts())\n",
    "# print('df_train2 label: \\n', df_train2['label'].value_counts())"
   ]
  },
  {
   "cell_type": "code",
   "execution_count": 4,
   "metadata": {},
   "outputs": [
    {
     "output_type": "execute_result",
     "data": {
      "text/plain": [
       "        user_id  merchant_id  label  age_range  gender\n",
       "0         34176         3906      0        6.0     0.0\n",
       "1         34176          121      0        6.0     0.0\n",
       "2         34176         4356      1        6.0     0.0\n",
       "3         34176         2217      0        6.0     0.0\n",
       "4        230784         4818      0        0.0     0.0\n",
       "...         ...          ...    ...        ...     ...\n",
       "260859   359807         4325      0        4.0     1.0\n",
       "260860   294527         3971      0        0.0     1.0\n",
       "260861   294527          152      0        0.0     1.0\n",
       "260862   294527         2537      0        0.0     1.0\n",
       "260863   229247         4140      0        4.0     2.0\n",
       "\n",
       "[260864 rows x 5 columns]"
      ],
      "text/html": "<div>\n<style scoped>\n    .dataframe tbody tr th:only-of-type {\n        vertical-align: middle;\n    }\n\n    .dataframe tbody tr th {\n        vertical-align: top;\n    }\n\n    .dataframe thead th {\n        text-align: right;\n    }\n</style>\n<table border=\"1\" class=\"dataframe\">\n  <thead>\n    <tr style=\"text-align: right;\">\n      <th></th>\n      <th>user_id</th>\n      <th>merchant_id</th>\n      <th>label</th>\n      <th>age_range</th>\n      <th>gender</th>\n    </tr>\n  </thead>\n  <tbody>\n    <tr>\n      <td>0</td>\n      <td>34176</td>\n      <td>3906</td>\n      <td>0</td>\n      <td>6.0</td>\n      <td>0.0</td>\n    </tr>\n    <tr>\n      <td>1</td>\n      <td>34176</td>\n      <td>121</td>\n      <td>0</td>\n      <td>6.0</td>\n      <td>0.0</td>\n    </tr>\n    <tr>\n      <td>2</td>\n      <td>34176</td>\n      <td>4356</td>\n      <td>1</td>\n      <td>6.0</td>\n      <td>0.0</td>\n    </tr>\n    <tr>\n      <td>3</td>\n      <td>34176</td>\n      <td>2217</td>\n      <td>0</td>\n      <td>6.0</td>\n      <td>0.0</td>\n    </tr>\n    <tr>\n      <td>4</td>\n      <td>230784</td>\n      <td>4818</td>\n      <td>0</td>\n      <td>0.0</td>\n      <td>0.0</td>\n    </tr>\n    <tr>\n      <td>...</td>\n      <td>...</td>\n      <td>...</td>\n      <td>...</td>\n      <td>...</td>\n      <td>...</td>\n    </tr>\n    <tr>\n      <td>260859</td>\n      <td>359807</td>\n      <td>4325</td>\n      <td>0</td>\n      <td>4.0</td>\n      <td>1.0</td>\n    </tr>\n    <tr>\n      <td>260860</td>\n      <td>294527</td>\n      <td>3971</td>\n      <td>0</td>\n      <td>0.0</td>\n      <td>1.0</td>\n    </tr>\n    <tr>\n      <td>260861</td>\n      <td>294527</td>\n      <td>152</td>\n      <td>0</td>\n      <td>0.0</td>\n      <td>1.0</td>\n    </tr>\n    <tr>\n      <td>260862</td>\n      <td>294527</td>\n      <td>2537</td>\n      <td>0</td>\n      <td>0.0</td>\n      <td>1.0</td>\n    </tr>\n    <tr>\n      <td>260863</td>\n      <td>229247</td>\n      <td>4140</td>\n      <td>0</td>\n      <td>4.0</td>\n      <td>2.0</td>\n    </tr>\n  </tbody>\n</table>\n<p>260864 rows × 5 columns</p>\n</div>"
     },
     "metadata": {},
     "execution_count": 4
    }
   ],
   "source": [
    "matrix = df_train1\n",
    "# 连接user_info表，通过user_id关联\n",
    "matrix = matrix.merge(df_user_info, on='user_id', how='left')\n",
    "matrix"
   ]
  },
  {
   "cell_type": "code",
   "execution_count": 5,
   "metadata": {},
   "outputs": [
    {
     "output_type": "execute_result",
     "data": {
      "text/plain": [
       "        user_id  merchant_id  label  age_range  gender\n",
       "0         34176         3906      0          6       0\n",
       "1         34176          121      0          6       0\n",
       "2         34176         4356      1          6       0\n",
       "3         34176         2217      0          6       0\n",
       "4        230784         4818      0          0       0\n",
       "...         ...          ...    ...        ...     ...\n",
       "260859   359807         4325      0          4       1\n",
       "260860   294527         3971      0          0       1\n",
       "260861   294527          152      0          0       1\n",
       "260862   294527         2537      0          0       1\n",
       "260863   229247         4140      0          4       2\n",
       "\n",
       "[260864 rows x 5 columns]"
      ],
      "text/html": "<div>\n<style scoped>\n    .dataframe tbody tr th:only-of-type {\n        vertical-align: middle;\n    }\n\n    .dataframe tbody tr th {\n        vertical-align: top;\n    }\n\n    .dataframe thead th {\n        text-align: right;\n    }\n</style>\n<table border=\"1\" class=\"dataframe\">\n  <thead>\n    <tr style=\"text-align: right;\">\n      <th></th>\n      <th>user_id</th>\n      <th>merchant_id</th>\n      <th>label</th>\n      <th>age_range</th>\n      <th>gender</th>\n    </tr>\n  </thead>\n  <tbody>\n    <tr>\n      <td>0</td>\n      <td>34176</td>\n      <td>3906</td>\n      <td>0</td>\n      <td>6</td>\n      <td>0</td>\n    </tr>\n    <tr>\n      <td>1</td>\n      <td>34176</td>\n      <td>121</td>\n      <td>0</td>\n      <td>6</td>\n      <td>0</td>\n    </tr>\n    <tr>\n      <td>2</td>\n      <td>34176</td>\n      <td>4356</td>\n      <td>1</td>\n      <td>6</td>\n      <td>0</td>\n    </tr>\n    <tr>\n      <td>3</td>\n      <td>34176</td>\n      <td>2217</td>\n      <td>0</td>\n      <td>6</td>\n      <td>0</td>\n    </tr>\n    <tr>\n      <td>4</td>\n      <td>230784</td>\n      <td>4818</td>\n      <td>0</td>\n      <td>0</td>\n      <td>0</td>\n    </tr>\n    <tr>\n      <td>...</td>\n      <td>...</td>\n      <td>...</td>\n      <td>...</td>\n      <td>...</td>\n      <td>...</td>\n    </tr>\n    <tr>\n      <td>260859</td>\n      <td>359807</td>\n      <td>4325</td>\n      <td>0</td>\n      <td>4</td>\n      <td>1</td>\n    </tr>\n    <tr>\n      <td>260860</td>\n      <td>294527</td>\n      <td>3971</td>\n      <td>0</td>\n      <td>0</td>\n      <td>1</td>\n    </tr>\n    <tr>\n      <td>260861</td>\n      <td>294527</td>\n      <td>152</td>\n      <td>0</td>\n      <td>0</td>\n      <td>1</td>\n    </tr>\n    <tr>\n      <td>260862</td>\n      <td>294527</td>\n      <td>2537</td>\n      <td>0</td>\n      <td>0</td>\n      <td>1</td>\n    </tr>\n    <tr>\n      <td>260863</td>\n      <td>229247</td>\n      <td>4140</td>\n      <td>0</td>\n      <td>4</td>\n      <td>2</td>\n    </tr>\n  </tbody>\n</table>\n<p>260864 rows × 5 columns</p>\n</div>"
     },
     "metadata": {},
     "execution_count": 5
    }
   ],
   "source": [
    "# 格式化\n",
    "df_user_log.rename(columns={'seller_id':'merchant_id'}, inplace=True)  # 使用merchant_id（原列名seller_id）\n",
    "df_user_log['user_id'] = df_user_log['user_id'].astype('int32')\n",
    "df_user_log['merchant_id'] = df_user_log['merchant_id'].astype('int32')\n",
    "df_user_log['item_id'] = df_user_log['item_id'].astype('int32')\n",
    "df_user_log['cat_id'] = df_user_log['cat_id'].astype('int32')\n",
    "df_user_log['brand_id'].fillna(0, inplace=True)\n",
    "df_user_log['brand_id'] = df_user_log['brand_id'].astype('int32')\n",
    "df_user_log['time_stamp'] = pd.to_datetime(df_user_log['time_stamp'], format='%H%M')\n",
    "\n",
    "matrix['age_range'].fillna(0, inplace=True)  # 0 and NULL for unknown\n",
    "matrix['gender'].fillna(2, inplace=True)  # 2 and NULL:unknown\n",
    "matrix['age_range'] = matrix['age_range'].astype('int8')\n",
    "matrix['gender'] = matrix['gender'].astype('int8')\n",
    "matrix['label'] = matrix['label'].astype('int32')\n",
    "matrix['user_id'] = matrix['user_id'].astype('int32')\n",
    "matrix['merchant_id'] = matrix['merchant_id'].astype('int32')\n",
    "matrix"
   ]
  },
  {
   "cell_type": "code",
   "execution_count": 6,
   "metadata": {},
   "outputs": [
    {
     "output_type": "execute_result",
     "data": {
      "text/plain": [
       "        user_id  merchant_id  label     m1     m2    m3  m4  m5       m6  \\\n",
       "0         34176         3906      0  16269   5819   308  20   2  14870.0   \n",
       "1         34176          121      0  79865  10931  1179  26   2  72265.0   \n",
       "2         34176         4356      1   7269   2281    67  15   2   6094.0   \n",
       "3         34176         2217      0  60202  16870   377   5   2  52230.0   \n",
       "4        230784         4818      0  48089   7500   461  27   2  43268.0   \n",
       "...         ...          ...    ...    ...    ...   ...  ..  ..      ...   \n",
       "260859   359807         4325      0  19789   5379    77  18   2  16711.0   \n",
       "260860   294527         3971      0  28892   7587   272   7   2  24602.0   \n",
       "260861   294527          152      0   8107   2404   172  13   2   6829.0   \n",
       "260862   294527         2537      0  48094  10867   222  21   2  39593.0   \n",
       "260863   229247         4140      0   8566   2038   420   3   2   7744.0   \n",
       "\n",
       "           m7  ...  age_2  age_3  age_4  age_5  age_6  age_7  age_8  g_0  g_1  \\\n",
       "0        28.0  ...      0      0      0      0      1      0      0    1    0   \n",
       "1       121.0  ...      0      0      0      0      1      0      0    1    0   \n",
       "2        16.0  ...      0      0      0      0      1      0      0    1    0   \n",
       "3       101.0  ...      0      0      0      0      1      0      0    1    0   \n",
       "4       129.0  ...      0      0      0      0      0      0      0    1    0   \n",
       "...       ...  ...    ...    ...    ...    ...    ...    ...    ...  ...  ...   \n",
       "260859   47.0  ...      0      0      1      0      0      0      0    0    1   \n",
       "260860   94.0  ...      0      0      0      0      0      0      0    0    1   \n",
       "260861   12.0  ...      0      0      0      0      0      0      0    0    1   \n",
       "260862  123.0  ...      0      0      0      0      0      0      0    0    1   \n",
       "260863   11.0  ...      0      0      1      0      0      0      0    0    0   \n",
       "\n",
       "        g_2  \n",
       "0         0  \n",
       "1         0  \n",
       "2         0  \n",
       "3         0  \n",
       "4         0  \n",
       "...     ...  \n",
       "260859    0  \n",
       "260860    0  \n",
       "260861    0  \n",
       "260862    0  \n",
       "260863    1  \n",
       "\n",
       "[260864 rows x 25 columns]"
      ],
      "text/html": "<div>\n<style scoped>\n    .dataframe tbody tr th:only-of-type {\n        vertical-align: middle;\n    }\n\n    .dataframe tbody tr th {\n        vertical-align: top;\n    }\n\n    .dataframe thead th {\n        text-align: right;\n    }\n</style>\n<table border=\"1\" class=\"dataframe\">\n  <thead>\n    <tr style=\"text-align: right;\">\n      <th></th>\n      <th>user_id</th>\n      <th>merchant_id</th>\n      <th>label</th>\n      <th>m1</th>\n      <th>m2</th>\n      <th>m3</th>\n      <th>m4</th>\n      <th>m5</th>\n      <th>m6</th>\n      <th>m7</th>\n      <th>...</th>\n      <th>age_2</th>\n      <th>age_3</th>\n      <th>age_4</th>\n      <th>age_5</th>\n      <th>age_6</th>\n      <th>age_7</th>\n      <th>age_8</th>\n      <th>g_0</th>\n      <th>g_1</th>\n      <th>g_2</th>\n    </tr>\n  </thead>\n  <tbody>\n    <tr>\n      <td>0</td>\n      <td>34176</td>\n      <td>3906</td>\n      <td>0</td>\n      <td>16269</td>\n      <td>5819</td>\n      <td>308</td>\n      <td>20</td>\n      <td>2</td>\n      <td>14870.0</td>\n      <td>28.0</td>\n      <td>...</td>\n      <td>0</td>\n      <td>0</td>\n      <td>0</td>\n      <td>0</td>\n      <td>1</td>\n      <td>0</td>\n      <td>0</td>\n      <td>1</td>\n      <td>0</td>\n      <td>0</td>\n    </tr>\n    <tr>\n      <td>1</td>\n      <td>34176</td>\n      <td>121</td>\n      <td>0</td>\n      <td>79865</td>\n      <td>10931</td>\n      <td>1179</td>\n      <td>26</td>\n      <td>2</td>\n      <td>72265.0</td>\n      <td>121.0</td>\n      <td>...</td>\n      <td>0</td>\n      <td>0</td>\n      <td>0</td>\n      <td>0</td>\n      <td>1</td>\n      <td>0</td>\n      <td>0</td>\n      <td>1</td>\n      <td>0</td>\n      <td>0</td>\n    </tr>\n    <tr>\n      <td>2</td>\n      <td>34176</td>\n      <td>4356</td>\n      <td>1</td>\n      <td>7269</td>\n      <td>2281</td>\n      <td>67</td>\n      <td>15</td>\n      <td>2</td>\n      <td>6094.0</td>\n      <td>16.0</td>\n      <td>...</td>\n      <td>0</td>\n      <td>0</td>\n      <td>0</td>\n      <td>0</td>\n      <td>1</td>\n      <td>0</td>\n      <td>0</td>\n      <td>1</td>\n      <td>0</td>\n      <td>0</td>\n    </tr>\n    <tr>\n      <td>3</td>\n      <td>34176</td>\n      <td>2217</td>\n      <td>0</td>\n      <td>60202</td>\n      <td>16870</td>\n      <td>377</td>\n      <td>5</td>\n      <td>2</td>\n      <td>52230.0</td>\n      <td>101.0</td>\n      <td>...</td>\n      <td>0</td>\n      <td>0</td>\n      <td>0</td>\n      <td>0</td>\n      <td>1</td>\n      <td>0</td>\n      <td>0</td>\n      <td>1</td>\n      <td>0</td>\n      <td>0</td>\n    </tr>\n    <tr>\n      <td>4</td>\n      <td>230784</td>\n      <td>4818</td>\n      <td>0</td>\n      <td>48089</td>\n      <td>7500</td>\n      <td>461</td>\n      <td>27</td>\n      <td>2</td>\n      <td>43268.0</td>\n      <td>129.0</td>\n      <td>...</td>\n      <td>0</td>\n      <td>0</td>\n      <td>0</td>\n      <td>0</td>\n      <td>0</td>\n      <td>0</td>\n      <td>0</td>\n      <td>1</td>\n      <td>0</td>\n      <td>0</td>\n    </tr>\n    <tr>\n      <td>...</td>\n      <td>...</td>\n      <td>...</td>\n      <td>...</td>\n      <td>...</td>\n      <td>...</td>\n      <td>...</td>\n      <td>...</td>\n      <td>...</td>\n      <td>...</td>\n      <td>...</td>\n      <td>...</td>\n      <td>...</td>\n      <td>...</td>\n      <td>...</td>\n      <td>...</td>\n      <td>...</td>\n      <td>...</td>\n      <td>...</td>\n      <td>...</td>\n      <td>...</td>\n      <td>...</td>\n    </tr>\n    <tr>\n      <td>260859</td>\n      <td>359807</td>\n      <td>4325</td>\n      <td>0</td>\n      <td>19789</td>\n      <td>5379</td>\n      <td>77</td>\n      <td>18</td>\n      <td>2</td>\n      <td>16711.0</td>\n      <td>47.0</td>\n      <td>...</td>\n      <td>0</td>\n      <td>0</td>\n      <td>1</td>\n      <td>0</td>\n      <td>0</td>\n      <td>0</td>\n      <td>0</td>\n      <td>0</td>\n      <td>1</td>\n      <td>0</td>\n    </tr>\n    <tr>\n      <td>260860</td>\n      <td>294527</td>\n      <td>3971</td>\n      <td>0</td>\n      <td>28892</td>\n      <td>7587</td>\n      <td>272</td>\n      <td>7</td>\n      <td>2</td>\n      <td>24602.0</td>\n      <td>94.0</td>\n      <td>...</td>\n      <td>0</td>\n      <td>0</td>\n      <td>0</td>\n      <td>0</td>\n      <td>0</td>\n      <td>0</td>\n      <td>0</td>\n      <td>0</td>\n      <td>1</td>\n      <td>0</td>\n    </tr>\n    <tr>\n      <td>260861</td>\n      <td>294527</td>\n      <td>152</td>\n      <td>0</td>\n      <td>8107</td>\n      <td>2404</td>\n      <td>172</td>\n      <td>13</td>\n      <td>2</td>\n      <td>6829.0</td>\n      <td>12.0</td>\n      <td>...</td>\n      <td>0</td>\n      <td>0</td>\n      <td>0</td>\n      <td>0</td>\n      <td>0</td>\n      <td>0</td>\n      <td>0</td>\n      <td>0</td>\n      <td>1</td>\n      <td>0</td>\n    </tr>\n    <tr>\n      <td>260862</td>\n      <td>294527</td>\n      <td>2537</td>\n      <td>0</td>\n      <td>48094</td>\n      <td>10867</td>\n      <td>222</td>\n      <td>21</td>\n      <td>2</td>\n      <td>39593.0</td>\n      <td>123.0</td>\n      <td>...</td>\n      <td>0</td>\n      <td>0</td>\n      <td>0</td>\n      <td>0</td>\n      <td>0</td>\n      <td>0</td>\n      <td>0</td>\n      <td>0</td>\n      <td>1</td>\n      <td>0</td>\n    </tr>\n    <tr>\n      <td>260863</td>\n      <td>229247</td>\n      <td>4140</td>\n      <td>0</td>\n      <td>8566</td>\n      <td>2038</td>\n      <td>420</td>\n      <td>3</td>\n      <td>2</td>\n      <td>7744.0</td>\n      <td>11.0</td>\n      <td>...</td>\n      <td>0</td>\n      <td>0</td>\n      <td>1</td>\n      <td>0</td>\n      <td>0</td>\n      <td>0</td>\n      <td>0</td>\n      <td>0</td>\n      <td>0</td>\n      <td>1</td>\n    </tr>\n  </tbody>\n</table>\n<p>260864 rows × 25 columns</p>\n</div>"
     },
     "metadata": {},
     "execution_count": 6
    }
   ],
   "source": [
    "# 商家特征处理\n",
    "groups = df_user_log.groupby(['merchant_id'])\n",
    "\n",
    "# 商家被交互行为数量 m1\n",
    "temp = groups.size().reset_index().rename(columns={0:'m1'})\n",
    "matrix = matrix.merge(temp, on='merchant_id', how='left')\n",
    "\n",
    "# 统计商家被交互的user_id, item_id, cat_id, brand_id 唯一值\n",
    "temp = groups['user_id', 'item_id', 'cat_id', 'brand_id'].nunique().reset_index().rename(columns={'user_id':'m2', 'item_id':'m3', 'cat_id':'m4', 'brand_id':'m5'})\n",
    "matrix = matrix.merge(temp, on='merchant_id', how='left')\n",
    "\n",
    "# 统计商家被交互的action_type 唯一值，0表示单击，1表示添加到购物车，2表示购买，3表示添加到收藏夹\n",
    "temp = groups['action_type'].value_counts().unstack().reset_index().rename(columns={0:'m6', 1:'m7', 2:'m8', 3:'m9'})\n",
    "matrix = matrix.merge(temp, on='merchant_id', how='left')\n",
    "\n",
    "# 按照merchant_id 统计随机负采样的个数（商家的老用户数）\n",
    "temp = df_train2[df_train2['label']==-1].groupby(['merchant_id']).size().reset_index().rename(columns={0:'m10'})\n",
    "matrix = matrix.merge(temp, on='merchant_id', how='left')\n",
    "\n",
    "# 采用one-hot编码 修改age_range字段名称为 age_0, age_1, age_2... age_8\n",
    "temp = pd.get_dummies(matrix['age_range'], prefix='age')\n",
    "matrix = pd.concat([matrix, temp], axis=1)\n",
    "\n",
    "# 采用one-hot编码 修改gender字段名称为 g_0, g_1, g_2\n",
    "temp = pd.get_dummies(matrix['gender'], prefix='g')\n",
    "matrix = pd.concat([matrix, temp], axis=1)\n",
    "\n",
    "# 删除age_range, gender字段\n",
    "matrix.drop(['age_range', 'gender'], axis=1, inplace=True)\n",
    "\n",
    "matrix"
   ]
  },
  {
   "cell_type": "code",
   "execution_count": null,
   "metadata": {},
   "outputs": [],
   "source": [
    "# # 增加特征\n",
    "# matrix['rate'] = matrix[]"
   ]
  },
  {
   "cell_type": "code",
   "execution_count": 21,
   "metadata": {},
   "outputs": [
    {
     "output_type": "execute_result",
     "data": {
      "text/plain": [
       "             user_id  label        m1       m2       m3      m4     m5  \\\n",
       "merchant_id                                                              \n",
       "3323             606    176  11826090  2473692    56964     606   1212   \n",
       "1999             259     73   3557624   565138    59570    1036    518   \n",
       "1322             102     27    492558   116892    23154    1224    204   \n",
       "587              114     27   1022124   385548    31350    8322   5586   \n",
       "4775             213     50   7656924  1636053    66456    1065    426   \n",
       "4480             217     47   5549992   829591    60109    2170    434   \n",
       "3016             236     51   7500080   883112   136644    5900    472   \n",
       "3624             126     25    870156   153972    19152     378    252   \n",
       "4043             881    165  56499411  9767647   273991   22025   1762   \n",
       "474              636    118  43316052  8746272  1161972  152640  57876   \n",
       "\n",
       "                     m6       m7         m8  ...  age_3  age_4  age_5  age_6  \\\n",
       "merchant_id                                  ...                               \n",
       "3323         10082022.0  25452.0  1338654.0  ...  189.0  186.0   60.0   13.0   \n",
       "1999          3079769.0   3626.0   355348.0  ...   92.0   91.0   19.0    4.0   \n",
       "1322           419832.0   1122.0    55182.0  ...   30.0   37.0   11.0    1.0   \n",
       "587            882816.0   1710.0    77634.0  ...   26.0   36.0   26.0    3.0   \n",
       "4775          6968082.0   9798.0   194256.0  ...   20.0   30.0   31.0   51.0   \n",
       "4480          5097330.0   4774.0   257579.0  ...   39.0   99.0   28.0   11.0   \n",
       "3016          6699096.0   4484.0   474832.0  ...   56.0   54.0    8.0   16.0   \n",
       "3624           762048.0   1008.0    84672.0  ...   40.0   39.0   11.0    7.0   \n",
       "4043         46098325.0  92505.0  6795153.0  ...  279.0  100.0   63.0   47.0   \n",
       "474          35502792.0  39432.0  5912256.0  ...  216.0  222.0   58.0   11.0   \n",
       "\n",
       "             age_7  age_8    g_0    g_1  g_2      rate  \n",
       "merchant_id                                             \n",
       "3323             4      3  351.0  200.0   55  0.290429  \n",
       "1999             1      0  161.0   74.0   24  0.281853  \n",
       "1322             1      1   66.0   29.0    7  0.264706  \n",
       "587              3      1   66.0   41.0    7  0.236842  \n",
       "4775            11      1  189.0   17.0    7  0.234742  \n",
       "4480             2      0  155.0   47.0   15  0.216590  \n",
       "3016             2      2  107.0  115.0   14  0.216102  \n",
       "3624             2      2   77.0   37.0   12  0.198413  \n",
       "4043             8      0  734.0  123.0   24  0.187287  \n",
       "474              3      3  422.0  178.0   36  0.185535  \n",
       "\n",
       "[10 rows x 25 columns]"
      ],
      "text/html": "<div>\n<style scoped>\n    .dataframe tbody tr th:only-of-type {\n        vertical-align: middle;\n    }\n\n    .dataframe tbody tr th {\n        vertical-align: top;\n    }\n\n    .dataframe thead th {\n        text-align: right;\n    }\n</style>\n<table border=\"1\" class=\"dataframe\">\n  <thead>\n    <tr style=\"text-align: right;\">\n      <th></th>\n      <th>user_id</th>\n      <th>label</th>\n      <th>m1</th>\n      <th>m2</th>\n      <th>m3</th>\n      <th>m4</th>\n      <th>m5</th>\n      <th>m6</th>\n      <th>m7</th>\n      <th>m8</th>\n      <th>...</th>\n      <th>age_3</th>\n      <th>age_4</th>\n      <th>age_5</th>\n      <th>age_6</th>\n      <th>age_7</th>\n      <th>age_8</th>\n      <th>g_0</th>\n      <th>g_1</th>\n      <th>g_2</th>\n      <th>rate</th>\n    </tr>\n    <tr>\n      <th>merchant_id</th>\n      <th></th>\n      <th></th>\n      <th></th>\n      <th></th>\n      <th></th>\n      <th></th>\n      <th></th>\n      <th></th>\n      <th></th>\n      <th></th>\n      <th></th>\n      <th></th>\n      <th></th>\n      <th></th>\n      <th></th>\n      <th></th>\n      <th></th>\n      <th></th>\n      <th></th>\n      <th></th>\n      <th></th>\n    </tr>\n  </thead>\n  <tbody>\n    <tr>\n      <td>3323</td>\n      <td>606</td>\n      <td>176</td>\n      <td>11826090</td>\n      <td>2473692</td>\n      <td>56964</td>\n      <td>606</td>\n      <td>1212</td>\n      <td>10082022.0</td>\n      <td>25452.0</td>\n      <td>1338654.0</td>\n      <td>...</td>\n      <td>189.0</td>\n      <td>186.0</td>\n      <td>60.0</td>\n      <td>13.0</td>\n      <td>4</td>\n      <td>3</td>\n      <td>351.0</td>\n      <td>200.0</td>\n      <td>55</td>\n      <td>0.290429</td>\n    </tr>\n    <tr>\n      <td>1999</td>\n      <td>259</td>\n      <td>73</td>\n      <td>3557624</td>\n      <td>565138</td>\n      <td>59570</td>\n      <td>1036</td>\n      <td>518</td>\n      <td>3079769.0</td>\n      <td>3626.0</td>\n      <td>355348.0</td>\n      <td>...</td>\n      <td>92.0</td>\n      <td>91.0</td>\n      <td>19.0</td>\n      <td>4.0</td>\n      <td>1</td>\n      <td>0</td>\n      <td>161.0</td>\n      <td>74.0</td>\n      <td>24</td>\n      <td>0.281853</td>\n    </tr>\n    <tr>\n      <td>1322</td>\n      <td>102</td>\n      <td>27</td>\n      <td>492558</td>\n      <td>116892</td>\n      <td>23154</td>\n      <td>1224</td>\n      <td>204</td>\n      <td>419832.0</td>\n      <td>1122.0</td>\n      <td>55182.0</td>\n      <td>...</td>\n      <td>30.0</td>\n      <td>37.0</td>\n      <td>11.0</td>\n      <td>1.0</td>\n      <td>1</td>\n      <td>1</td>\n      <td>66.0</td>\n      <td>29.0</td>\n      <td>7</td>\n      <td>0.264706</td>\n    </tr>\n    <tr>\n      <td>587</td>\n      <td>114</td>\n      <td>27</td>\n      <td>1022124</td>\n      <td>385548</td>\n      <td>31350</td>\n      <td>8322</td>\n      <td>5586</td>\n      <td>882816.0</td>\n      <td>1710.0</td>\n      <td>77634.0</td>\n      <td>...</td>\n      <td>26.0</td>\n      <td>36.0</td>\n      <td>26.0</td>\n      <td>3.0</td>\n      <td>3</td>\n      <td>1</td>\n      <td>66.0</td>\n      <td>41.0</td>\n      <td>7</td>\n      <td>0.236842</td>\n    </tr>\n    <tr>\n      <td>4775</td>\n      <td>213</td>\n      <td>50</td>\n      <td>7656924</td>\n      <td>1636053</td>\n      <td>66456</td>\n      <td>1065</td>\n      <td>426</td>\n      <td>6968082.0</td>\n      <td>9798.0</td>\n      <td>194256.0</td>\n      <td>...</td>\n      <td>20.0</td>\n      <td>30.0</td>\n      <td>31.0</td>\n      <td>51.0</td>\n      <td>11</td>\n      <td>1</td>\n      <td>189.0</td>\n      <td>17.0</td>\n      <td>7</td>\n      <td>0.234742</td>\n    </tr>\n    <tr>\n      <td>4480</td>\n      <td>217</td>\n      <td>47</td>\n      <td>5549992</td>\n      <td>829591</td>\n      <td>60109</td>\n      <td>2170</td>\n      <td>434</td>\n      <td>5097330.0</td>\n      <td>4774.0</td>\n      <td>257579.0</td>\n      <td>...</td>\n      <td>39.0</td>\n      <td>99.0</td>\n      <td>28.0</td>\n      <td>11.0</td>\n      <td>2</td>\n      <td>0</td>\n      <td>155.0</td>\n      <td>47.0</td>\n      <td>15</td>\n      <td>0.216590</td>\n    </tr>\n    <tr>\n      <td>3016</td>\n      <td>236</td>\n      <td>51</td>\n      <td>7500080</td>\n      <td>883112</td>\n      <td>136644</td>\n      <td>5900</td>\n      <td>472</td>\n      <td>6699096.0</td>\n      <td>4484.0</td>\n      <td>474832.0</td>\n      <td>...</td>\n      <td>56.0</td>\n      <td>54.0</td>\n      <td>8.0</td>\n      <td>16.0</td>\n      <td>2</td>\n      <td>2</td>\n      <td>107.0</td>\n      <td>115.0</td>\n      <td>14</td>\n      <td>0.216102</td>\n    </tr>\n    <tr>\n      <td>3624</td>\n      <td>126</td>\n      <td>25</td>\n      <td>870156</td>\n      <td>153972</td>\n      <td>19152</td>\n      <td>378</td>\n      <td>252</td>\n      <td>762048.0</td>\n      <td>1008.0</td>\n      <td>84672.0</td>\n      <td>...</td>\n      <td>40.0</td>\n      <td>39.0</td>\n      <td>11.0</td>\n      <td>7.0</td>\n      <td>2</td>\n      <td>2</td>\n      <td>77.0</td>\n      <td>37.0</td>\n      <td>12</td>\n      <td>0.198413</td>\n    </tr>\n    <tr>\n      <td>4043</td>\n      <td>881</td>\n      <td>165</td>\n      <td>56499411</td>\n      <td>9767647</td>\n      <td>273991</td>\n      <td>22025</td>\n      <td>1762</td>\n      <td>46098325.0</td>\n      <td>92505.0</td>\n      <td>6795153.0</td>\n      <td>...</td>\n      <td>279.0</td>\n      <td>100.0</td>\n      <td>63.0</td>\n      <td>47.0</td>\n      <td>8</td>\n      <td>0</td>\n      <td>734.0</td>\n      <td>123.0</td>\n      <td>24</td>\n      <td>0.187287</td>\n    </tr>\n    <tr>\n      <td>474</td>\n      <td>636</td>\n      <td>118</td>\n      <td>43316052</td>\n      <td>8746272</td>\n      <td>1161972</td>\n      <td>152640</td>\n      <td>57876</td>\n      <td>35502792.0</td>\n      <td>39432.0</td>\n      <td>5912256.0</td>\n      <td>...</td>\n      <td>216.0</td>\n      <td>222.0</td>\n      <td>58.0</td>\n      <td>11.0</td>\n      <td>3</td>\n      <td>3</td>\n      <td>422.0</td>\n      <td>178.0</td>\n      <td>36</td>\n      <td>0.185535</td>\n    </tr>\n  </tbody>\n</table>\n<p>10 rows × 25 columns</p>\n</div>"
     },
     "metadata": {},
     "execution_count": 21
    }
   ],
   "source": [
    "feat_group = matrix.groupby(['merchant_id']).agg({'user_id':'nunique', 'label':'sum', 'm1':'sum', 'm2':'sum', 'm3':'sum', 'm4':'sum', 'm5':'sum', 'm6':'sum', 'm7':'sum', 'm8':'sum', 'm9':'sum', 'm10':'sum', 'age_0':'sum', 'age_1':'sum', 'age_2':'sum', 'age_3':'sum', 'age_4':'sum', 'age_5':'sum', 'age_6':'sum', 'age_7':'sum', 'age_8':'sum', 'g_0':'sum', 'g_1':'sum', 'g_2':'sum'})\n",
    "\n",
    "feat_group_select = feat_group[(feat_group['user_id'] > 100)]\n",
    "feat_group_select['rate'] = feat_group_select['label'] / feat_group_select['user_id']\n",
    "# feat_group_select\n",
    "\n",
    "merchant_good = feat_group_select.sort_values(by='rate', ascending=False)[0:10]\n",
    "merchant_good\n"
   ]
  },
  {
   "cell_type": "code",
   "execution_count": 8,
   "metadata": {},
   "outputs": [
    {
     "output_type": "execute_result",
     "data": {
      "text/plain": [
       "action_type  merchant_id        m6     m7       m8       m9\n",
       "0                      1  308236.0  444.0  17705.0  12755.0\n",
       "1                      2    2030.0    8.0    189.0    144.0\n",
       "2                      3    2399.0    4.0     67.0    175.0\n",
       "3                      4    2646.0    2.0    294.0    164.0\n",
       "4                      5    7483.0    9.0    144.0    556.0\n",
       "...                  ...       ...    ...      ...      ...\n",
       "4990                4991     556.0    2.0     80.0     28.0\n",
       "4991                4992   11380.0   20.0   1971.0    505.0\n",
       "4992                4993   12324.0   18.0    769.0   1156.0\n",
       "4993                4994    5756.0   13.0    164.0    226.0\n",
       "4994                4995    6134.0   16.0    911.0    447.0\n",
       "\n",
       "[4995 rows x 5 columns]"
      ],
      "text/html": "<div>\n<style scoped>\n    .dataframe tbody tr th:only-of-type {\n        vertical-align: middle;\n    }\n\n    .dataframe tbody tr th {\n        vertical-align: top;\n    }\n\n    .dataframe thead th {\n        text-align: right;\n    }\n</style>\n<table border=\"1\" class=\"dataframe\">\n  <thead>\n    <tr style=\"text-align: right;\">\n      <th>action_type</th>\n      <th>merchant_id</th>\n      <th>m6</th>\n      <th>m7</th>\n      <th>m8</th>\n      <th>m9</th>\n    </tr>\n  </thead>\n  <tbody>\n    <tr>\n      <td>0</td>\n      <td>1</td>\n      <td>308236.0</td>\n      <td>444.0</td>\n      <td>17705.0</td>\n      <td>12755.0</td>\n    </tr>\n    <tr>\n      <td>1</td>\n      <td>2</td>\n      <td>2030.0</td>\n      <td>8.0</td>\n      <td>189.0</td>\n      <td>144.0</td>\n    </tr>\n    <tr>\n      <td>2</td>\n      <td>3</td>\n      <td>2399.0</td>\n      <td>4.0</td>\n      <td>67.0</td>\n      <td>175.0</td>\n    </tr>\n    <tr>\n      <td>3</td>\n      <td>4</td>\n      <td>2646.0</td>\n      <td>2.0</td>\n      <td>294.0</td>\n      <td>164.0</td>\n    </tr>\n    <tr>\n      <td>4</td>\n      <td>5</td>\n      <td>7483.0</td>\n      <td>9.0</td>\n      <td>144.0</td>\n      <td>556.0</td>\n    </tr>\n    <tr>\n      <td>...</td>\n      <td>...</td>\n      <td>...</td>\n      <td>...</td>\n      <td>...</td>\n      <td>...</td>\n    </tr>\n    <tr>\n      <td>4990</td>\n      <td>4991</td>\n      <td>556.0</td>\n      <td>2.0</td>\n      <td>80.0</td>\n      <td>28.0</td>\n    </tr>\n    <tr>\n      <td>4991</td>\n      <td>4992</td>\n      <td>11380.0</td>\n      <td>20.0</td>\n      <td>1971.0</td>\n      <td>505.0</td>\n    </tr>\n    <tr>\n      <td>4992</td>\n      <td>4993</td>\n      <td>12324.0</td>\n      <td>18.0</td>\n      <td>769.0</td>\n      <td>1156.0</td>\n    </tr>\n    <tr>\n      <td>4993</td>\n      <td>4994</td>\n      <td>5756.0</td>\n      <td>13.0</td>\n      <td>164.0</td>\n      <td>226.0</td>\n    </tr>\n    <tr>\n      <td>4994</td>\n      <td>4995</td>\n      <td>6134.0</td>\n      <td>16.0</td>\n      <td>911.0</td>\n      <td>447.0</td>\n    </tr>\n  </tbody>\n</table>\n<p>4995 rows × 5 columns</p>\n</div>"
     },
     "metadata": {},
     "execution_count": 8
    }
   ],
   "source": [
    "groups['action_type'].value_counts().unstack().reset_index().rename(columns={0:'m6', 1:'m7', 2:'m8', 3:'m9'})"
   ]
  },
  {
   "cell_type": "code",
   "execution_count": 11,
   "metadata": {},
   "outputs": [
    {
     "output_type": "execute_result",
     "data": {
      "text/plain": [
       "action_type         0      1        2        3\n",
       "merchant_id                                   \n",
       "1            308236.0  444.0  17705.0  12755.0\n",
       "2              2030.0    8.0    189.0    144.0\n",
       "3              2399.0    4.0     67.0    175.0\n",
       "4              2646.0    2.0    294.0    164.0\n",
       "5              7483.0    9.0    144.0    556.0\n",
       "...               ...    ...      ...      ...\n",
       "4991            556.0    2.0     80.0     28.0\n",
       "4992          11380.0   20.0   1971.0    505.0\n",
       "4993          12324.0   18.0    769.0   1156.0\n",
       "4994           5756.0   13.0    164.0    226.0\n",
       "4995           6134.0   16.0    911.0    447.0\n",
       "\n",
       "[4995 rows x 4 columns]"
      ],
      "text/html": "<div>\n<style scoped>\n    .dataframe tbody tr th:only-of-type {\n        vertical-align: middle;\n    }\n\n    .dataframe tbody tr th {\n        vertical-align: top;\n    }\n\n    .dataframe thead th {\n        text-align: right;\n    }\n</style>\n<table border=\"1\" class=\"dataframe\">\n  <thead>\n    <tr style=\"text-align: right;\">\n      <th>action_type</th>\n      <th>0</th>\n      <th>1</th>\n      <th>2</th>\n      <th>3</th>\n    </tr>\n    <tr>\n      <th>merchant_id</th>\n      <th></th>\n      <th></th>\n      <th></th>\n      <th></th>\n    </tr>\n  </thead>\n  <tbody>\n    <tr>\n      <td>1</td>\n      <td>308236.0</td>\n      <td>444.0</td>\n      <td>17705.0</td>\n      <td>12755.0</td>\n    </tr>\n    <tr>\n      <td>2</td>\n      <td>2030.0</td>\n      <td>8.0</td>\n      <td>189.0</td>\n      <td>144.0</td>\n    </tr>\n    <tr>\n      <td>3</td>\n      <td>2399.0</td>\n      <td>4.0</td>\n      <td>67.0</td>\n      <td>175.0</td>\n    </tr>\n    <tr>\n      <td>4</td>\n      <td>2646.0</td>\n      <td>2.0</td>\n      <td>294.0</td>\n      <td>164.0</td>\n    </tr>\n    <tr>\n      <td>5</td>\n      <td>7483.0</td>\n      <td>9.0</td>\n      <td>144.0</td>\n      <td>556.0</td>\n    </tr>\n    <tr>\n      <td>...</td>\n      <td>...</td>\n      <td>...</td>\n      <td>...</td>\n      <td>...</td>\n    </tr>\n    <tr>\n      <td>4991</td>\n      <td>556.0</td>\n      <td>2.0</td>\n      <td>80.0</td>\n      <td>28.0</td>\n    </tr>\n    <tr>\n      <td>4992</td>\n      <td>11380.0</td>\n      <td>20.0</td>\n      <td>1971.0</td>\n      <td>505.0</td>\n    </tr>\n    <tr>\n      <td>4993</td>\n      <td>12324.0</td>\n      <td>18.0</td>\n      <td>769.0</td>\n      <td>1156.0</td>\n    </tr>\n    <tr>\n      <td>4994</td>\n      <td>5756.0</td>\n      <td>13.0</td>\n      <td>164.0</td>\n      <td>226.0</td>\n    </tr>\n    <tr>\n      <td>4995</td>\n      <td>6134.0</td>\n      <td>16.0</td>\n      <td>911.0</td>\n      <td>447.0</td>\n    </tr>\n  </tbody>\n</table>\n<p>4995 rows × 4 columns</p>\n</div>"
     },
     "metadata": {},
     "execution_count": 11
    }
   ],
   "source": [
    "groups['action_type'].value_counts().unstack()"
   ]
  },
  {
   "cell_type": "code",
   "execution_count": null,
   "metadata": {},
   "outputs": [],
   "source": []
  }
 ]
}